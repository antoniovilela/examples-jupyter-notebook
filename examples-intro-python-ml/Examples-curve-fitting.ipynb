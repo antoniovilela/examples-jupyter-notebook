{
 "cells": [
  {
   "cell_type": "code",
   "execution_count": 13,
   "metadata": {},
   "outputs": [
    {
     "data": {
      "text/html": [
       "<div>\n",
       "<style scoped>\n",
       "    .dataframe tbody tr th:only-of-type {\n",
       "        vertical-align: middle;\n",
       "    }\n",
       "\n",
       "    .dataframe tbody tr th {\n",
       "        vertical-align: top;\n",
       "    }\n",
       "\n",
       "    .dataframe thead th {\n",
       "        text-align: right;\n",
       "    }\n",
       "</style>\n",
       "<table border=\"1\" class=\"dataframe\">\n",
       "  <thead>\n",
       "    <tr style=\"text-align: right;\">\n",
       "      <th></th>\n",
       "      <th>Year</th>\n",
       "      <th>Value</th>\n",
       "    </tr>\n",
       "  </thead>\n",
       "  <tbody>\n",
       "    <tr>\n",
       "      <th>0</th>\n",
       "      <td>1960</td>\n",
       "      <td>5.918412e+10</td>\n",
       "    </tr>\n",
       "    <tr>\n",
       "      <th>1</th>\n",
       "      <td>1961</td>\n",
       "      <td>4.955705e+10</td>\n",
       "    </tr>\n",
       "    <tr>\n",
       "      <th>2</th>\n",
       "      <td>1962</td>\n",
       "      <td>4.668518e+10</td>\n",
       "    </tr>\n",
       "    <tr>\n",
       "      <th>3</th>\n",
       "      <td>1963</td>\n",
       "      <td>5.009730e+10</td>\n",
       "    </tr>\n",
       "    <tr>\n",
       "      <th>4</th>\n",
       "      <td>1964</td>\n",
       "      <td>5.906225e+10</td>\n",
       "    </tr>\n",
       "    <tr>\n",
       "      <th>5</th>\n",
       "      <td>1965</td>\n",
       "      <td>6.970915e+10</td>\n",
       "    </tr>\n",
       "    <tr>\n",
       "      <th>6</th>\n",
       "      <td>1966</td>\n",
       "      <td>7.587943e+10</td>\n",
       "    </tr>\n",
       "    <tr>\n",
       "      <th>7</th>\n",
       "      <td>1967</td>\n",
       "      <td>7.205703e+10</td>\n",
       "    </tr>\n",
       "    <tr>\n",
       "      <th>8</th>\n",
       "      <td>1968</td>\n",
       "      <td>6.999350e+10</td>\n",
       "    </tr>\n",
       "    <tr>\n",
       "      <th>9</th>\n",
       "      <td>1969</td>\n",
       "      <td>7.871882e+10</td>\n",
       "    </tr>\n",
       "  </tbody>\n",
       "</table>\n",
       "</div>"
      ],
      "text/plain": [
       "   Year         Value\n",
       "0  1960  5.918412e+10\n",
       "1  1961  4.955705e+10\n",
       "2  1962  4.668518e+10\n",
       "3  1963  5.009730e+10\n",
       "4  1964  5.906225e+10\n",
       "5  1965  6.970915e+10\n",
       "6  1966  7.587943e+10\n",
       "7  1967  7.205703e+10\n",
       "8  1968  6.999350e+10\n",
       "9  1969  7.871882e+10"
      ]
     },
     "execution_count": 13,
     "metadata": {},
     "output_type": "execute_result"
    }
   ],
   "source": [
    "import numpy as np\n",
    "import pandas as pd\n",
    "import matplotlib.pyplot as plt\n",
    "%matplotlib inline\n",
    "df = pd.read_csv(\"china_gdp.csv\")\n",
    "df.head(10)"
   ]
  },
  {
   "cell_type": "code",
   "execution_count": 14,
   "metadata": {},
   "outputs": [
    {
     "name": "stdout",
     "output_type": "stream",
     "text": [
      "Max x: 2014.000000\n",
      "Max y: 10354831729340.400391\n"
     ]
    },
    {
     "data": {
      "image/png": "[encoded data removed]",
      "text/plain": [
       "<Figure size 576x360 with 1 Axes>"
      ]
     },
     "metadata": {
      "needs_background": "light"
     },
     "output_type": "display_data"
    }
   ],
   "source": [
    "plt.figure(figsize=(8,5))\n",
    "x_data = df[\"Year\"].values\n",
    "y_data = df[\"Value\"].values\n",
    "plt.plot(x_data, y_data, 'ro')\n",
    "plt.ylabel('GDP')\n",
    "plt.xlabel('Year')\n",
    "#plt.show()\n",
    "print( \"Max x: %f\" % x_data.max() )\n",
    "print( \"Max y: %f\" % y_data.max() )"
   ]
  },
  {
   "cell_type": "code",
   "execution_count": 15,
   "metadata": {},
   "outputs": [],
   "source": [
    "def sigmoid(x, Beta_1, Beta_2):\n",
    "     y = 1 / (1 + np.exp(-Beta_1*(x-Beta_2)))\n",
    "     return y"
   ]
  },
  {
   "cell_type": "code",
   "execution_count": 16,
   "metadata": {},
   "outputs": [
    {
     "data": {
      "text/plain": [
       "[<matplotlib.lines.Line2D at 0x101ce0b320>]"
      ]
     },
     "execution_count": 16,
     "metadata": {},
     "output_type": "execute_result"
    },
    {
     "data": {
      "image/png": "[encoded data removed]",
      "text/plain": [
       "<Figure size 432x288 with 1 Axes>"
      ]
     },
     "metadata": {
      "needs_background": "light"
     },
     "output_type": "display_data"
    }
   ],
   "source": [
    "x_data_norm = x_data/max(x_data)\n",
    "y_data_norm = y_data/max(y_data)\n",
    "plt.plot(x_data_norm, y_data_norm, 'ro')\n",
    "plt.ylabel('GDP (norm.)')\n",
    "plt.xlabel('Year (norm.)')\n",
    "beta_1 = 500\n",
    "beta_2 = 0.995\n",
    "#logistic function\n",
    "y_pred_init = sigmoid(x_data_norm, beta_1 , beta_2)\n",
    "#plot initial prediction against datapoints\n",
    "plt.plot(x_data_norm, y_pred_init)\n",
    "#plt.show()"
   ]
  },
  {
   "cell_type": "code",
   "execution_count": 17,
   "metadata": {},
   "outputs": [
    {
     "name": "stdout",
     "output_type": "stream",
     "text": [
      "[690.45317142   0.99720713]\n",
      "[[ 1.52274171e+03 -2.88115571e-04]\n",
      " [-2.88115571e-04  7.25955856e-09]]\n",
      " beta_1 = 690.453171, beta_2 = 0.997207\n"
     ]
    }
   ],
   "source": [
    "from scipy.optimize import curve_fit\n",
    "popt, pcov = curve_fit(sigmoid, x_data_norm, y_data_norm, p0=[beta_1,beta_2])\n",
    "print(popt); print(pcov)\n",
    "# Print the final parameters\n",
    "print(\" beta_1 = %f, beta_2 = %f\" % (popt[0], popt[1]))"
   ]
  },
  {
   "cell_type": "code",
   "execution_count": 18,
   "metadata": {},
   "outputs": [
    {
     "name": "stdout",
     "output_type": "stream",
     "text": [
      "[0.0057156  0.00478589 0.00450854 0.00483806 0.00570384 0.00673204\n",
      " 0.00732793 0.00695878 0.0067595  0.00760213 0.00883705 0.00951846\n",
      " 0.01083164 0.01320831 0.01373801 0.01556399 0.01464318 0.01664431\n",
      " 0.01432975 0.01707961 0.01831512 0.01877086 0.01965745 0.02211047\n",
      " 0.02492384 0.02969431 0.02885665 0.02620514 0.03000746 0.03341025\n",
      " 0.03466722 0.03683833 0.04103727 0.04276985 0.0542994  0.07069473\n",
      " 0.08313453 0.09253259 0.09901435 0.10521147 0.11639597 0.12865827\n",
      " 0.1411811  0.15933902 0.18752073 0.21908602 0.26362418 0.34023675\n",
      " 0.44022261 0.48860473 0.58326959 0.7235687  0.81716665 0.91653856\n",
      " 1.        ]\n",
      "[4.49475503e-08 6.37199944e-08 9.03327906e-08 1.28060479e-07\n",
      " 1.81545215e-07 2.57367962e-07 3.64858230e-07 5.17242010e-07\n",
      " 7.33269138e-07 1.03952032e-06 1.47367768e-06 2.08916118e-06\n",
      " 2.96170145e-06 4.19865752e-06 5.95222582e-06 8.43816532e-06\n",
      " 1.19623418e-05 1.69583560e-05 2.40408812e-05 3.40812670e-05\n",
      " 4.83146970e-05 6.84920566e-05 9.70951403e-05 1.37641562e-04\n",
      " 1.95116653e-04 2.76585021e-04 3.92056088e-04 5.55708199e-04\n",
      " 7.87618175e-04 1.11620150e-03 1.58164822e-03 2.24074696e-03\n",
      " 3.17362991e-03 4.49314801e-03 6.35779051e-03 8.98926638e-03\n",
      " 1.26959880e-02 1.79035621e-02 2.51926479e-02 3.53425478e-02\n",
      " 4.93746286e-02 6.85817987e-02 9.45178342e-02 1.28904826e-01\n",
      " 1.73406465e-01 2.29228510e-01 2.96573059e-01 3.74099813e-01\n",
      " 4.58677936e-01 5.45706058e-01 6.30028293e-01 7.07099897e-01\n",
      " 7.73878514e-01 8.29111685e-01 8.73066324e-01]\n"
     ]
    },
    {
     "data": {
      "text/plain": [
       "Text(0.5, 0, 'Year (norm.)')"
      ]
     },
     "execution_count": 18,
     "metadata": {},
     "output_type": "execute_result"
    },
    {
     "data": {
      "image/png": "[encoded data removed]",
      "text/plain": [
       "<Figure size 576x360 with 1 Axes>"
      ]
     },
     "metadata": {
      "needs_background": "light"
     },
     "output_type": "display_data"
    }
   ],
   "source": [
    "x = np.linspace(1960, 2015, 55)\n",
    "x = x/max(x)\n",
    "plt.figure(figsize=(8,5))\n",
    "y = sigmoid(x, *popt)\n",
    "print (y_data_norm)\n",
    "print (y)\n",
    "plt.plot(x_data_norm, y_data_norm, 'ro', label='data')\n",
    "plt.plot(x,y, linewidth=3.0, label='fit')\n",
    "plt.legend(loc='best')\n",
    "plt.ylabel('GDP (norm.)')\n",
    "plt.xlabel('Year (norm.)')\n",
    "#plt.show()"
   ]
  },
  {
   "cell_type": "code",
   "execution_count": 20,
   "metadata": {},
   "outputs": [
    {
     "name": "stdout",
     "output_type": "stream",
     "text": [
      "55 51 4\n"
     ]
    },
    {
     "data": {
      "text/plain": [
       "Text(0.5, 0, 'Year (norm.)')"
      ]
     },
     "execution_count": 20,
     "metadata": {},
     "output_type": "execute_result"
    },
    {
     "data": {
      "image/png": "[encoded data removed]",
      "text/plain": [
       "<Figure size 576x360 with 1 Axes>"
      ]
     },
     "metadata": {
      "needs_background": "light"
     },
     "output_type": "display_data"
    }
   ],
   "source": [
    "msk = np.random.rand(len(x_data_norm)) < 0.8\n",
    "#x_train = x_data_norm[msk]\n",
    "#x_test  = x_data_norm[~msk]\n",
    "#y_train = y_data_norm[msk]\n",
    "#y_test  = y_data_norm[~msk]\n",
    "x_train = x_data[msk]\n",
    "y_train = y_data[msk]\n",
    "x_test  = x_data[~msk]\n",
    "y_test  = y_data[~msk]\n",
    "\n",
    "x_train_norm = x_train / x_train.max()\n",
    "y_train_norm = y_train / y_train.max()\n",
    "\n",
    "print (len(x_data),len(x_train),len(x_test))\n",
    "\n",
    "plt.figure(figsize=(8,5))\n",
    "plt.plot(x_train_norm, y_train_norm, 'ro')\n",
    "\n",
    "beta_1 = 500\n",
    "beta_2 = 0.995\n",
    "#logistic function\n",
    "y_pred_init = sigmoid(x_train_norm, beta_1, beta_2)\n",
    "#plot initial prediction against datapoints\n",
    "plt.plot(x_train_norm, y_pred_init)\n",
    "plt.ylabel('GDP (norm.)')\n",
    "plt.xlabel('Year (norm.)')\n",
    "#plt.show()"
   ]
  },
  {
   "cell_type": "code",
   "execution_count": 21,
   "metadata": {},
   "outputs": [
    {
     "name": "stdout",
     "output_type": "stream",
     "text": [
      " beta_1 = 695.084478, beta_2 = 0.997152\n",
      "[0.0057156  0.00450854 0.00483806 0.00570384 0.00673204 0.00732793\n",
      " 0.00695878 0.0067595  0.00760213 0.00883705 0.00951846 0.01083164\n",
      " 0.01320831 0.01373801 0.01664431 0.01432975 0.01707961 0.01831512\n",
      " 0.01877086 0.01965745 0.02211047 0.02492384 0.02969431 0.02885665\n",
      " 0.02620514 0.03000746 0.03341025 0.03466722 0.03683833 0.04103727\n",
      " 0.04276985 0.0542994  0.07069473 0.08313453 0.09253259 0.09901435\n",
      " 0.10521147 0.11639597 0.12865827 0.1411811  0.15933902 0.18752073\n",
      " 0.21908602 0.26362418 0.34023675 0.44022261 0.58326959 0.7235687\n",
      " 0.81716665 0.91653856 1.        ]\n",
      "[4.16800652e-08 5.92263224e-08 8.41591110e-08 1.19587974e-07\n",
      " 1.69931492e-07 2.41468355e-07 3.43120418e-07 4.87565406e-07\n",
      " 6.92818025e-07 9.84476686e-07 1.39891601e-06 1.98782326e-06\n",
      " 2.82464444e-06 4.01374387e-06 5.70341936e-06 8.10439588e-06\n",
      " 1.15161032e-05 1.63640134e-05 2.32526910e-05 3.30411651e-05\n",
      " 4.69500107e-05 6.67134647e-05 9.47954915e-05 1.34696632e-04\n",
      " 1.91389670e-04 2.71937993e-04 3.86372811e-04 5.48936751e-04\n",
      " 7.79845091e-04 1.10777657e-03 1.57338887e-03 2.23426609e-03\n",
      " 3.17185252e-03 4.50111238e-03 6.38387087e-03 9.04700642e-03\n",
      " 1.28067929e-02 1.81005442e-02 2.55259134e-02 3.58860571e-02\n",
      " 5.02342880e-02 6.99033858e-02 9.64914432e-02 1.31759768e-01\n",
      " 1.77388035e-01 2.34548790e-01 3.03336721e-01 3.82224832e-01\n",
      " 4.67851300e-01 5.55414102e-01 6.39665776e-01 7.16112033e-01\n",
      " 7.81870479e-01 8.35887685e-01 8.78605066e-01]\n"
     ]
    },
    {
     "data": {
      "text/plain": [
       "Text(0.5, 0, 'Year (norm.)')"
      ]
     },
     "execution_count": 21,
     "metadata": {},
     "output_type": "execute_result"
    },
    {
     "data": {
      "image/png": "[encoded data removed]",
      "text/plain": [
       "<Figure size 576x360 with 1 Axes>"
      ]
     },
     "metadata": {
      "needs_background": "light"
     },
     "output_type": "display_data"
    }
   ],
   "source": [
    "from scipy.optimize import curve_fit\n",
    "popt, pcov = curve_fit(sigmoid, x_train_norm, y_train_norm, p0=[beta_1,beta_2])\n",
    "#print the final parameters\n",
    "print(\" beta_1 = %f, beta_2 = %f\" % (popt[0], popt[1]))\n",
    "\n",
    "print (y_train_norm)\n",
    "\n",
    "x = np.linspace(1960, 2015, 55)\n",
    "x = x / x.max()\n",
    "y = sigmoid(x, *popt)\n",
    "print (y)\n",
    "\n",
    "plt.figure(figsize=(8,5))\n",
    "plt.plot(x_train_norm, y_train_norm, 'ro', label='data')\n",
    "plt.plot(x,y, linewidth=3.0, label='fit')\n",
    "plt.legend(loc='best')\n",
    "plt.ylabel('GDP (norm.)')\n",
    "plt.xlabel('Year (norm.)')\n",
    "#plt.show()"
   ]
  },
  {
   "cell_type": "code",
   "execution_count": 22,
   "metadata": {},
   "outputs": [
    {
     "name": "stdout",
     "output_type": "stream",
     "text": [
      "Residual sum of squares: 0.0042\n",
      "R2-score: 0.9711\n"
     ]
    },
    {
     "data": {
      "image/png": "[encoded data removed]",
      "text/plain": [
       "<Figure size 576x360 with 1 Axes>"
      ]
     },
     "metadata": {
      "needs_background": "light"
     },
     "output_type": "display_data"
    }
   ],
   "source": [
    "#x = np.linspace(1960, 2015, 55)\n",
    "#x = x/max(x)\n",
    "#y = sigmoid(x, *popt)\n",
    "#plt.plot(x,y, linewidth=3.0, label='fit')\n",
    "\n",
    "x_test_norm = x_test / x_test.max()\n",
    "y_test_norm = y_test / y_test.max()\n",
    "\n",
    "y_hat = sigmoid(x_test_norm, *popt)\n",
    "\n",
    "plt.figure(figsize=(8,5))\n",
    "plt.plot(x_test_norm, y_test_norm, 'ro', label='test data')\n",
    "plt.plot(x_test_norm, y_hat, 'bo', label='model')\n",
    "plt.legend(loc='best')\n",
    "plt.ylabel('GDP (norm.)')\n",
    "plt.xlabel('Year (norm.)')\n",
    "#plt.show()\n",
    "\n",
    "from sklearn.metrics import r2_score\n",
    "print( \"Residual sum of squares: %.4f\" % np.mean( (y_hat - y_test_norm) ** 2 ) )\n",
    "print( \"R2-score: %.4f\" % r2_score(y_hat , y_test_norm) )"
   ]
  },
  {
   "cell_type": "code",
   "execution_count": null,
   "metadata": {},
   "outputs": [],
   "source": []
  }
 ],
 "metadata": {
  "kernelspec": {
   "display_name": "Python 3",
   "language": "python",
   "name": "python3"
  },
  "language_info": {
   "codemirror_mode": {
    "name": "ipython",
    "version": 3
   },
   "file_extension": ".py",
   "mimetype": "text/x-python",
   "name": "python",
   "nbconvert_exporter": "python",
   "pygments_lexer": "ipython3",
   "version": "3.7.1"
  }
 },
 "nbformat": 4,
 "nbformat_minor": 2
}
