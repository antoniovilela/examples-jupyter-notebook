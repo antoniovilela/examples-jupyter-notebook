{
 "cells": [
  {
   "cell_type": "code",
   "execution_count": 1,
   "metadata": {},
   "outputs": [],
   "source": [
    "import numpy as np\n",
    "\n",
    "def round_floats(vals, nbits=23):\n",
    "    #mask = 0xFFFF_FFFF << (23 - nbits)\n",
    "    mask = np.array( [0xFFFF_FFFF], dtype=np.uint32 )\n",
    "    #mask = ( mask >> (23 - nbits) ) << (23 - nbits)\n",
    "    mask = ( mask << (23 - nbits) )\n",
    "    # Binary conversion and copy\n",
    "    uvals = np.array( vals, dtype=np.float32 ).view(np.uint32)\n",
    "    # Apply mask\n",
    "    uvals &= mask\n",
    "    # Convert to single precision\n",
    "    result = uvals.view(np.float32)\n",
    "    return result"
   ]
  },
  {
   "cell_type": "code",
   "execution_count": 2,
   "metadata": {},
   "outputs": [
    {
     "data": {
      "text/plain": [
       "array([12.290212  , 29.82143   , 17.93958   , 18.945505  ,  1.2225685 ,\n",
       "       11.915479  , 19.396717  , 34.027054  , 41.96704   , 38.036846  ,\n",
       "       11.08708   ,  3.1720808 , 38.972187  , 36.087067  ,  9.706943  ,\n",
       "       25.573084  ,  3.4401534 , 19.707134  , 49.086384  , 15.245425  ,\n",
       "       39.09795   , 36.7353    , 41.913578  ,  6.0795054 , 43.391975  ,\n",
       "       28.03578   , 41.833523  , 36.950726  , 39.28679   , 34.147747  ,\n",
       "       45.76555   , 11.129483  , 28.634218  , 31.51287   ,  0.6696059 ,\n",
       "       13.140129  , 36.50079   , 39.543053  , 16.232315  , 13.832034  ,\n",
       "        6.148352  , 20.494171  , 47.635845  , 11.954908  ,  0.5083909 ,\n",
       "        0.9423517 , 33.00085   , 34.141273  , 35.0413    , 35.027775  ,\n",
       "       31.7367    , 37.729084  , 27.480743  , 36.267227  , 33.3932    ,\n",
       "        3.5576565 , 35.75764   , 31.33119   , 38.324272  , 34.684162  ,\n",
       "       22.670109  , 35.48653   , 14.011758  , 43.593952  , 26.102573  ,\n",
       "       38.1136    , 24.292671  ,  4.582632  ,  1.3357657 ,  0.62330455,\n",
       "       19.191671  , 41.108253  , 47.89373   , 11.363784  , 13.607121  ,\n",
       "        4.2635303 , 15.7402525 , 26.43345   , 44.716213  ,  3.648176  ,\n",
       "       47.521694  , 18.806967  , 10.992874  , 45.25152   ,  8.069868  ,\n",
       "       43.486042  , 10.354898  , 35.578632  , 10.31468   , 19.36469   ,\n",
       "       30.379694  , 13.63053   , 11.822072  , 13.08221   , 34.917175  ,\n",
       "       35.086437  , 10.825418  , 17.53348   , 42.6285    , 27.05152   ],\n",
       "      dtype=float32)"
      ]
     },
     "execution_count": 2,
     "metadata": {},
     "output_type": "execute_result"
    }
   ],
   "source": [
    "np.random.seed( 12345678 )\n",
    "\n",
    "# From 0. to 50.\n",
    "vals = np.array( 50.*np.random.rand(1000000), dtype=np.float32 )\n",
    "vals[:100]"
   ]
  },
  {
   "cell_type": "code",
   "execution_count": 3,
   "metadata": {},
   "outputs": [
    {
     "data": {
      "text/plain": [
       "(array([ 9957.,  9931., 10114., 10173., 10280.,  9939., 10104.,  9841.,\n",
       "        10115., 10077.,  9906.,  9943., 10024.,  9948.,  9939.,  9899.,\n",
       "         9941., 10081., 10033.,  9761.,  9850., 10078.,  9847., 10207.,\n",
       "        10102.,  9879., 10095.,  9918., 10157.,  9826.,  9959.,  9862.,\n",
       "         9901., 10165.,  9998.,  9959.,  9975., 10053., 10045.,  9880.,\n",
       "         9802.,  9938.,  9962., 10008.,  9933.,  9986., 10039., 10206.,\n",
       "        10035., 10093., 10060.,  9962.,  9870.,  9905.,  9998.,  9967.,\n",
       "        10132.,  9969.,  9933., 10184.,  9791., 10104., 10039.,  9980.,\n",
       "         9976.,  9956., 10082., 10233.,  9964.,  9984.,  9951.,  9911.,\n",
       "         9801.,  9917., 10047., 10034., 10132.,  9826., 10139., 10026.,\n",
       "         9973., 10144., 10023., 10051., 10217., 10097., 10008.,  9887.,\n",
       "        10040., 10002.,  9924.,  9948.,  9963., 10190.,  9831.,  9872.,\n",
       "         9896., 10120., 10105., 10072.]),\n",
       " array([6.58299978e-05, 5.00062823e-01, 1.00005972e+00, 1.50005674e+00,\n",
       "        2.00005364e+00, 2.50005078e+00, 3.00004768e+00, 3.50004458e+00,\n",
       "        4.00004148e+00, 4.50003862e+00, 5.00003576e+00, 5.50003242e+00,\n",
       "        6.00002956e+00, 6.50002670e+00, 7.00002337e+00, 7.50002050e+00,\n",
       "        8.00001717e+00, 8.50001431e+00, 9.00001144e+00, 9.50000858e+00,\n",
       "        1.00000057e+01, 1.05000019e+01, 1.09999990e+01, 1.14999962e+01,\n",
       "        1.19999933e+01, 1.24999905e+01, 1.29999876e+01, 1.34999838e+01,\n",
       "        1.39999809e+01, 1.44999781e+01, 1.49999752e+01, 1.54999723e+01,\n",
       "        1.59999695e+01, 1.64999657e+01, 1.69999638e+01, 1.74999599e+01,\n",
       "        1.79999561e+01, 1.84999542e+01, 1.89999504e+01, 1.94999485e+01,\n",
       "        1.99999447e+01, 2.04999428e+01, 2.09999390e+01, 2.14999352e+01,\n",
       "        2.19999332e+01, 2.24999294e+01, 2.29999275e+01, 2.34999237e+01,\n",
       "        2.39999199e+01, 2.44999180e+01, 2.49999142e+01, 2.54999123e+01,\n",
       "        2.59999084e+01, 2.64999065e+01, 2.69999027e+01, 2.74998989e+01,\n",
       "        2.79998970e+01, 2.84998932e+01, 2.89998913e+01, 2.94998875e+01,\n",
       "        2.99998837e+01, 3.04998817e+01, 3.09998779e+01, 3.14998760e+01,\n",
       "        3.19998722e+01, 3.24998703e+01, 3.29998665e+01, 3.34998627e+01,\n",
       "        3.39998589e+01, 3.44998589e+01, 3.49998550e+01, 3.54998512e+01,\n",
       "        3.59998474e+01, 3.64998436e+01, 3.69998436e+01, 3.74998398e+01,\n",
       "        3.79998360e+01, 3.84998322e+01, 3.89998283e+01, 3.94998283e+01,\n",
       "        3.99998245e+01, 4.04998207e+01, 4.09998169e+01, 4.14998131e+01,\n",
       "        4.19998131e+01, 4.24998093e+01, 4.29998055e+01, 4.34998016e+01,\n",
       "        4.39998016e+01, 4.44997978e+01, 4.49997940e+01, 4.54997902e+01,\n",
       "        4.59997864e+01, 4.64997864e+01, 4.69997826e+01, 4.74997787e+01,\n",
       "        4.79997749e+01, 4.84997711e+01, 4.89997711e+01, 4.94997673e+01,\n",
       "        4.99997635e+01], dtype=float32),\n",
       " <a list of 100 Patch objects>)"
      ]
     },
     "execution_count": 3,
     "metadata": {},
     "output_type": "execute_result"
    },
    {
     "data": {
      "image/png": "[encoded data removed]",
      "text/plain": [
       "<Figure size 432x288 with 1 Axes>"
      ]
     },
     "metadata": {
      "needs_background": "light"
     },
     "output_type": "display_data"
    }
   ],
   "source": [
    "import matplotlib.pyplot as plt\n",
    "%matplotlib inline\n",
    "\n",
    "# Plot random values\n",
    "plt.hist( vals , bins=100 )"
   ]
  },
  {
   "cell_type": "code",
   "execution_count": 4,
   "metadata": {},
   "outputs": [
    {
     "name": "stdout",
     "output_type": "stream",
     "text": [
      "[12.290039  29.82129   17.939453  18.945312   1.2225342 11.915039\n",
      " 19.396484  34.02539   41.966797  38.035156  11.086914   3.171997\n",
      " 38.970703  36.085938   9.706543  25.572266   3.4400635 19.707031\n",
      " 49.085938  15.245117  39.097656  36.734375  41.91211    6.0793457\n",
      " 43.390625  28.035156  41.83203   36.94922   39.285156  34.146484\n",
      " 45.76367   11.129395  28.63379   31.512695   0.6695862 13.139648\n",
      " 36.5       39.54297   16.231445  13.832031   6.1481934 20.49414\n",
      " 47.634766  11.95459    0.5083618  0.9423218 33.        34.140625\n",
      " 35.041016  35.027344  31.736328  37.728516  27.480469  36.265625\n",
      " 33.39258    3.5576172 35.75586   31.331055  38.32422   34.683594\n",
      " 22.669922  35.48633   14.011719  43.59375   26.10254   38.11328\n",
      " 24.291992   4.5825195  1.3357544  0.623291  19.191406  41.10742\n",
      " 47.89258   11.36377   13.606934   4.2634277 15.740234  26.432617\n",
      " 44.714844   3.6480713 47.521484  18.80664   10.992676  45.25\n",
      "  8.069824  43.484375  10.354492  35.578125  10.314453  19.364258\n",
      " 30.378906  13.630371  11.821777  13.082031  34.916016  35.085938\n",
      " 10.825195  17.533203  42.626953  27.050781 ] float32\n"
     ]
    },
    {
     "data": {
      "text/plain": [
       "(array([53320., 38836., 35455., 29459., 30008., 29008., 24358., 22535.,\n",
       "        22221., 24058., 22452., 22654., 19138., 16884., 16031., 16368.,\n",
       "        15953., 15982., 17598., 16247., 16460., 16016., 16839., 16016.,\n",
       "        15972., 10053.,  9796., 11156.,  9874.,  9730.,  9750., 10469.,\n",
       "         9783.,  9665.,  9774.,  9787., 11024.,  9691.,  9782.,  9715.,\n",
       "        10410.,  9800.,  9845.,  9700.,  9815., 11087.,  9859.,  9964.,\n",
       "         9690.,  9682.,  4204.,  3478.,  3469.,  3558.,  4079.,  3507.,\n",
       "         3547.,  3416.,  3561.,  3548.,  3454.,  3470.,  3491.,  4290.,\n",
       "         3451.,  3573.,  3670.,  3547.,  3489.,  3519.,  3403.,  3428.,\n",
       "         4248.,  3481.,  3510.,  3606.,  3635.,  3500.,  3471.,  3521.,\n",
       "         3427.,  4180.,  3507.,  3596.,  3419.,  3477.,  3543.,  3547.,\n",
       "         3460.,  3501.,  4327.,  3515.,  3580.,  3335.,  3510.,  3491.,\n",
       "         3472.,  3423.,  3489.,  4308.]),\n",
       " array([0.0000000e+00, 1.9493104e-05, 3.8986207e-05, 5.8479309e-05,\n",
       "        7.7972414e-05, 9.7465512e-05, 1.1695862e-04, 1.3645172e-04,\n",
       "        1.5594483e-04, 1.7543793e-04, 1.9493102e-04, 2.1442413e-04,\n",
       "        2.3391724e-04, 2.5341034e-04, 2.7290345e-04, 2.9239655e-04,\n",
       "        3.1188966e-04, 3.3138276e-04, 3.5087587e-04, 3.7036894e-04,\n",
       "        3.8986205e-04, 4.0935515e-04, 4.2884826e-04, 4.4834136e-04,\n",
       "        4.6783447e-04, 4.8732758e-04, 5.0682068e-04, 5.2631379e-04,\n",
       "        5.4580689e-04, 5.6530000e-04, 5.8479310e-04, 6.0428621e-04,\n",
       "        6.2377931e-04, 6.4327242e-04, 6.6276552e-04, 6.8225863e-04,\n",
       "        7.0175173e-04, 7.2124484e-04, 7.4073789e-04, 7.6023099e-04,\n",
       "        7.7972410e-04, 7.9921720e-04, 8.1871031e-04, 8.3820341e-04,\n",
       "        8.5769652e-04, 8.7718962e-04, 8.9668273e-04, 9.1617584e-04,\n",
       "        9.3566894e-04, 9.5516205e-04, 9.7465515e-04, 9.9414820e-04,\n",
       "        1.0136414e-03, 1.0331344e-03, 1.0526276e-03, 1.0721206e-03,\n",
       "        1.0916138e-03, 1.1111068e-03, 1.1306000e-03, 1.1500930e-03,\n",
       "        1.1695862e-03, 1.1890793e-03, 1.2085724e-03, 1.2280655e-03,\n",
       "        1.2475586e-03, 1.2670517e-03, 1.2865448e-03, 1.3060379e-03,\n",
       "        1.3255310e-03, 1.3450241e-03, 1.3645173e-03, 1.3840103e-03,\n",
       "        1.4035035e-03, 1.4229965e-03, 1.4424897e-03, 1.4619827e-03,\n",
       "        1.4814758e-03, 1.5009689e-03, 1.5204620e-03, 1.5399551e-03,\n",
       "        1.5594482e-03, 1.5789414e-03, 1.5984344e-03, 1.6179276e-03,\n",
       "        1.6374206e-03, 1.6569138e-03, 1.6764068e-03, 1.6959000e-03,\n",
       "        1.7153930e-03, 1.7348862e-03, 1.7543792e-03, 1.7738724e-03,\n",
       "        1.7933655e-03, 1.8128586e-03, 1.8323517e-03, 1.8518448e-03,\n",
       "        1.8713379e-03, 1.8908310e-03, 1.9103241e-03, 1.9298173e-03,\n",
       "        1.9493103e-03], dtype=float32),\n",
       " <a list of 100 Patch objects>)"
      ]
     },
     "execution_count": 4,
     "metadata": {},
     "output_type": "execute_result"
    },
    {
     "data": {
      "image/png": "[encoded data removed]",
      "text/plain": [
       "<Figure size 432x288 with 1 Axes>"
      ]
     },
     "metadata": {
      "needs_background": "light"
     },
     "output_type": "display_data"
    }
   ],
   "source": [
    "rounded_vals = round_floats( vals, nbits=14 )\n",
    "print ( rounded_vals[:100], rounded_vals.dtype )\n",
    "\n",
    "# Example with 14 bits\n",
    "plt.hist( ( vals - rounded_vals ) , bins=100 )"
   ]
  },
  {
   "cell_type": "code",
   "execution_count": 5,
   "metadata": {},
   "outputs": [],
   "source": [
    "max_vals = []\n",
    "bits = []\n",
    "for i in range(24): \n",
    "    bits.append( i )  \n",
    "    rounded = round_floats( vals, nbits=i ) \n",
    "    max_vals.append( np.max( vals - rounded ) ) "
   ]
  },
  {
   "cell_type": "code",
   "execution_count": 6,
   "metadata": {},
   "outputs": [
    {
     "data": {
      "text/plain": [
       "Text(0, 0.5, 'Max. rounding loss')"
      ]
     },
     "execution_count": 6,
     "metadata": {},
     "output_type": "execute_result"
    },
    {
     "data": {
      "image/png": "[encoded data removed]",
      "text/plain": [
       "<Figure size 432x288 with 1 Axes>"
      ]
     },
     "metadata": {
      "needs_background": "light"
     },
     "output_type": "display_data"
    }
   ],
   "source": [
    "plt.plot(bits, max_vals, 'bo')\n",
    "plt.yscale('log')\n",
    "#plt.axis(ymin=0., ymax=1.)\n",
    "\n",
    "precision = 0.001\n",
    "\n",
    "xlin = np.linspace(0,24,100)\n",
    "plt.plot( xlin, [precision for i in range(len(xlin))], '--')\n",
    "\n",
    "plt.xlabel( 'Bits' )\n",
    "plt.ylabel( 'Max. rounding loss' )"
   ]
  },
  {
   "cell_type": "code",
   "execution_count": 7,
   "metadata": {},
   "outputs": [
    {
     "name": "stdout",
     "output_type": "stream",
     "text": [
      "[1.79997635e+01 1.59999580e+01 7.99998856e+00 3.99998856e+00\n",
      " 1.99999237e+00 9.99992371e-01 4.99996185e-01 2.49996185e-01\n",
      " 1.24996185e-01 6.24961853e-02 3.12461853e-02 1.56211853e-02\n",
      " 7.80868530e-03 3.90243530e-03 1.94931030e-03 9.72747803e-04\n",
      " 4.84466553e-04 2.40325928e-04 1.18255615e-04 5.72204590e-05\n",
      " 2.67028809e-05 1.14440918e-05 3.81469727e-06 0.00000000e+00]\n",
      "[False False False False False False False False False False False False\n",
      " False False False  True  True  True  True  True  True  True  True  True]\n",
      "[9.72747803e-04 4.84466553e-04 2.40325928e-04 1.18255615e-04\n",
      " 5.72204590e-05 2.67028809e-05 1.14440918e-05 3.81469727e-06\n",
      " 0.00000000e+00]\n",
      "[15 16 17 18 19 20 21 22 23]\n"
     ]
    }
   ],
   "source": [
    "max_vals_arr = np.asarray( max_vals )\n",
    "print ( max_vals_arr )\n",
    "sel = max_vals_arr < precision\n",
    "print ( sel )\n",
    "print ( max_vals_arr[ sel ] )\n",
    "print ( np.array( bits )[sel] )"
   ]
  },
  {
   "cell_type": "code",
   "execution_count": null,
   "metadata": {},
   "outputs": [],
   "source": []
  }
 ],
 "metadata": {
  "kernelspec": {
   "display_name": "Python 3",
   "language": "python",
   "name": "python3"
  },
  "language_info": {
   "codemirror_mode": {
    "name": "ipython",
    "version": 3
   },
   "file_extension": ".py",
   "mimetype": "text/x-python",
   "name": "python",
   "nbconvert_exporter": "python",
   "pygments_lexer": "ipython3",
   "version": "3.7.1"
  }
 },
 "nbformat": 4,
 "nbformat_minor": 2
}
